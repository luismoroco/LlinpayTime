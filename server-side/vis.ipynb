{
 "cells": [
  {
   "cell_type": "code",
   "execution_count": 2,
   "metadata": {},
   "outputs": [
    {
     "name": "stdout",
     "output_type": "stream",
     "text": [
      "Collecting pandas\n",
      "  Using cached pandas-1.1.5-cp36-cp36m-manylinux1_x86_64.whl (9.5 MB)\n",
      "Collecting numpy>=1.15.4\n",
      "  Using cached numpy-1.19.5-cp36-cp36m-manylinux2010_x86_64.whl (14.8 MB)\n",
      "Requirement already satisfied: python-dateutil>=2.7.3 in ./venv/lib/python3.6/site-packages (from pandas) (2.8.2)\n",
      "Collecting pytz>=2017.2\n",
      "  Using cached pytz-2023.3-py2.py3-none-any.whl (502 kB)\n",
      "Requirement already satisfied: six>=1.5 in ./venv/lib/python3.6/site-packages (from python-dateutil>=2.7.3->pandas) (1.16.0)\n",
      "Installing collected packages: pytz, numpy, pandas\n",
      "Successfully installed numpy-1.19.5 pandas-1.1.5 pytz-2023.3\n"
     ]
    }
   ],
   "source": [
    "!pip3 install pandas"
   ]
  },
  {
   "cell_type": "code",
   "execution_count": 3,
   "metadata": {},
   "outputs": [],
   "source": [
    "import pandas as pd"
   ]
  },
  {
   "cell_type": "code",
   "execution_count": 4,
   "metadata": {},
   "outputs": [
    {
     "data": {
      "text/html": [
       "<div>\n",
       "<style scoped>\n",
       "    .dataframe tbody tr th:only-of-type {\n",
       "        vertical-align: middle;\n",
       "    }\n",
       "\n",
       "    .dataframe tbody tr th {\n",
       "        vertical-align: top;\n",
       "    }\n",
       "\n",
       "    .dataframe thead th {\n",
       "        text-align: right;\n",
       "    }\n",
       "</style>\n",
       "<table border=\"1\" class=\"dataframe\">\n",
       "  <thead>\n",
       "    <tr style=\"text-align: right;\">\n",
       "      <th></th>\n",
       "      <th>id</th>\n",
       "      <th>name</th>\n",
       "      <th>address</th>\n",
       "      <th>lon</th>\n",
       "      <th>lat</th>\n",
       "      <th>elevation</th>\n",
       "    </tr>\n",
       "  </thead>\n",
       "  <tbody>\n",
       "    <tr>\n",
       "      <th>0</th>\n",
       "      <td>28079004</td>\n",
       "      <td>Pza. de España</td>\n",
       "      <td>Plaza de España</td>\n",
       "      <td>-3.712247</td>\n",
       "      <td>40.423853</td>\n",
       "      <td>635</td>\n",
       "    </tr>\n",
       "    <tr>\n",
       "      <th>1</th>\n",
       "      <td>28079008</td>\n",
       "      <td>Escuelas Aguirre</td>\n",
       "      <td>Entre C/ Alcalá y C/ O’ Donell</td>\n",
       "      <td>-3.682319</td>\n",
       "      <td>40.421564</td>\n",
       "      <td>670</td>\n",
       "    </tr>\n",
       "    <tr>\n",
       "      <th>2</th>\n",
       "      <td>28079011</td>\n",
       "      <td>Avda. Ramón y Cajal</td>\n",
       "      <td>Avda. Ramón y Cajal  esq. C/ Príncipe de Vergara</td>\n",
       "      <td>-3.677356</td>\n",
       "      <td>40.451475</td>\n",
       "      <td>708</td>\n",
       "    </tr>\n",
       "    <tr>\n",
       "      <th>3</th>\n",
       "      <td>28079016</td>\n",
       "      <td>Arturo Soria</td>\n",
       "      <td>C/ Arturo Soria  esq. C/  Vizconde de los Asilos</td>\n",
       "      <td>-3.639233</td>\n",
       "      <td>40.440047</td>\n",
       "      <td>693</td>\n",
       "    </tr>\n",
       "    <tr>\n",
       "      <th>4</th>\n",
       "      <td>28079017</td>\n",
       "      <td>Villaverde</td>\n",
       "      <td>C/. Juan Peñalver</td>\n",
       "      <td>-3.713322</td>\n",
       "      <td>40.347139</td>\n",
       "      <td>604</td>\n",
       "    </tr>\n",
       "  </tbody>\n",
       "</table>\n",
       "</div>"
      ],
      "text/plain": [
       "         id                 name  \\\n",
       "0  28079004       Pza. de España   \n",
       "1  28079008     Escuelas Aguirre   \n",
       "2  28079011  Avda. Ramón y Cajal   \n",
       "3  28079016         Arturo Soria   \n",
       "4  28079017           Villaverde   \n",
       "\n",
       "                                             address       lon        lat  \\\n",
       "0                                    Plaza de España -3.712247  40.423853   \n",
       "1                    Entre C/ Alcalá y C/ O’ Donell  -3.682319  40.421564   \n",
       "2   Avda. Ramón y Cajal  esq. C/ Príncipe de Vergara -3.677356  40.451475   \n",
       "3  C/ Arturo Soria  esq. C/  Vizconde de los Asilos  -3.639233  40.440047   \n",
       "4                                  C/. Juan Peñalver -3.713322  40.347139   \n",
       "\n",
       "   elevation  \n",
       "0        635  \n",
       "1        670  \n",
       "2        708  \n",
       "3        693  \n",
       "4        604  "
      ]
     },
     "execution_count": 4,
     "metadata": {},
     "output_type": "execute_result"
    }
   ],
   "source": [
    "df_st = pd.read_csv('./data/stations.csv')\n",
    "df_st.head()"
   ]
  },
  {
   "cell_type": "code",
   "execution_count": 5,
   "metadata": {},
   "outputs": [],
   "source": [
    "import os \n",
    "import glob\n",
    "\n",
    "def get_files(dir):\n",
    "    return glob.glob(os.path.join(dir, '*.csv'))"
   ]
  },
  {
   "cell_type": "code",
   "execution_count": 7,
   "metadata": {},
   "outputs": [],
   "source": [
    "def obtener_nombres_columnas(archivo_csv):\n",
    "    df = pd.read_csv(archivo_csv)\n",
    "    return df.columns.tolist()\n",
    "\n",
    "def encontrar_columnas_comunes(lista_columnas):\n",
    "    columnas_comunes = set(lista_columnas[0])\n",
    "    for columnas in lista_columnas[1:]:\n",
    "        columnas_comunes.intersection_update(columnas)\n",
    "    return list(columnas_comunes)"
   ]
  },
  {
   "cell_type": "code",
   "execution_count": 8,
   "metadata": {},
   "outputs": [
    {
     "name": "stdout",
     "output_type": "stream",
     "text": [
      "['./data/stations/madrid_2005.csv', './data/stations/madrid_2012.csv', './data/stations/madrid_2007.csv', './data/stations/madrid_2011.csv', './data/stations/madrid_2015.csv', './data/stations/madrid_2016.csv', './data/stations/madrid_2001.csv', './data/stations/madrid_2013.csv', './data/stations/madrid_2010.csv', './data/stations/madrid_2004.csv', './data/stations/madrid_2017.csv', './data/stations/madrid_2009.csv', './data/stations/madrid_2006.csv', './data/stations/madrid_2002.csv', './data/stations/madrid_2008.csv', './data/stations/madrid_2014.csv', './data/stations/madrid_2018.csv', './data/stations/madrid_2003.csv']\n"
     ]
    }
   ],
   "source": [
    "DIR = './data/stations/'\n",
    "\n",
    "files = get_files(DIR)\n",
    "print(files)"
   ]
  },
  {
   "cell_type": "code",
   "execution_count": 53,
   "metadata": {},
   "outputs": [
    {
     "name": "stdout",
     "output_type": "stream",
     "text": [
      "['date', 'BEN', 'CO', 'EBE', 'MXY', 'NMHC', 'NO_2', 'NOx', 'OXY', 'O_3', 'PM10', 'PM25', 'PXY', 'SO_2', 'TCH', 'TOL', 'station']\n",
      "['date', 'BEN', 'CO', 'EBE', 'NMHC', 'NO', 'NO_2', 'O_3', 'PM10', 'PM25', 'SO_2', 'TCH', 'TOL', 'station']\n",
      "['date', 'BEN', 'CO', 'EBE', 'MXY', 'NMHC', 'NO_2', 'NOx', 'OXY', 'O_3', 'PM10', 'PM25', 'PXY', 'SO_2', 'TCH', 'TOL', 'station']\n",
      "['date', 'BEN', 'CO', 'EBE', 'NMHC', 'NO', 'NO_2', 'O_3', 'PM10', 'PM25', 'SO_2', 'TCH', 'TOL', 'station']\n",
      "['date', 'BEN', 'CO', 'EBE', 'NMHC', 'NO', 'NO_2', 'O_3', 'PM10', 'PM25', 'SO_2', 'TCH', 'TOL', 'station']\n",
      "['date', 'BEN', 'CO', 'EBE', 'NMHC', 'NO', 'NO_2', 'O_3', 'PM10', 'PM25', 'SO_2', 'TCH', 'TOL', 'station']\n",
      "['date', 'BEN', 'CO', 'EBE', 'MXY', 'NMHC', 'NO_2', 'NOx', 'OXY', 'O_3', 'PM10', 'PXY', 'SO_2', 'TCH', 'TOL', 'station']\n",
      "['date', 'BEN', 'CO', 'EBE', 'NMHC', 'NO', 'NO_2', 'O_3', 'PM10', 'PM25', 'SO_2', 'TCH', 'TOL', 'station']\n",
      "['date', 'BEN', 'CO', 'EBE', 'MXY', 'NMHC', 'NO_2', 'NOx', 'OXY', 'O_3', 'PM10', 'PM25', 'PXY', 'SO_2', 'TCH', 'TOL', 'station']\n",
      "['date', 'BEN', 'CO', 'EBE', 'MXY', 'NMHC', 'NO_2', 'NOx', 'OXY', 'O_3', 'PM10', 'PM25', 'PXY', 'SO_2', 'TCH', 'TOL', 'station']\n",
      "['date', 'BEN', 'CH4', 'CO', 'EBE', 'NMHC', 'NO', 'NO_2', 'NOx', 'O_3', 'PM10', 'PM25', 'SO_2', 'TCH', 'TOL', 'station']\n",
      "['date', 'BEN', 'CO', 'EBE', 'MXY', 'NMHC', 'NO_2', 'NOx', 'OXY', 'O_3', 'PM10', 'PM25', 'PXY', 'SO_2', 'TCH', 'TOL', 'station']\n",
      "['date', 'BEN', 'CO', 'EBE', 'MXY', 'NMHC', 'NO_2', 'NOx', 'OXY', 'O_3', 'PM10', 'PM25', 'PXY', 'SO_2', 'TCH', 'TOL', 'station']\n",
      "['date', 'BEN', 'CO', 'EBE', 'MXY', 'NMHC', 'NO_2', 'NOx', 'OXY', 'O_3', 'PM10', 'PXY', 'SO_2', 'TCH', 'TOL', 'station']\n",
      "['date', 'BEN', 'CO', 'EBE', 'MXY', 'NMHC', 'NO_2', 'NOx', 'OXY', 'O_3', 'PM10', 'PM25', 'PXY', 'SO_2', 'TCH', 'TOL', 'station']\n",
      "['date', 'BEN', 'CO', 'EBE', 'NMHC', 'NO', 'NO_2', 'O_3', 'PM10', 'PM25', 'SO_2', 'TCH', 'TOL', 'station']\n",
      "['date', 'BEN', 'CH4', 'CO', 'EBE', 'NMHC', 'NO', 'NO_2', 'NOx', 'O_3', 'PM10', 'PM25', 'SO_2', 'TCH', 'TOL', 'station']\n",
      "['date', 'BEN', 'CO', 'EBE', 'MXY', 'NMHC', 'NO_2', 'NOx', 'OXY', 'O_3', 'PM10', 'PXY', 'SO_2', 'TCH', 'TOL', 'station']\n",
      "Columnas comunes en todos los archivos:\n",
      "['BEN', 'EBE', 'NO_2', 'NMHC', 'PM10', 'date', 'CO', 'O_3', 'TCH', 'TOL', 'station', 'SO_2']\n"
     ]
    }
   ],
   "source": [
    "nombres_columnas_por_archivo = []\n",
    "\n",
    "# Leer cada archivo .csv y almacenar los nombres de sus columnas\n",
    "for archivo_csv in files:\n",
    "    nombres_columnas = obtener_nombres_columnas(archivo_csv)\n",
    "    print(nombres_columnas)\n",
    "    nombres_columnas_por_archivo.append(nombres_columnas)\n",
    "\n",
    "# Encontrar el subconjunto de columnas comunes a todos los archivos\n",
    "columnas_comunes = encontrar_columnas_comunes(nombres_columnas_por_archivo)\n",
    "\n",
    "print(\"Columnas comunes en todos los archivos:\")\n",
    "print(columnas_comunes)"
   ]
  },
  {
   "cell_type": "code",
   "execution_count": 13,
   "metadata": {},
   "outputs": [
    {
     "data": {
      "text/plain": [
       "[28079004,\n",
       " 28079008,\n",
       " 28079011,\n",
       " 28079016,\n",
       " 28079017,\n",
       " 28079018,\n",
       " 28079024,\n",
       " 28079027,\n",
       " 28079035,\n",
       " 28079036,\n",
       " 28079038,\n",
       " 28079039,\n",
       " 28079040,\n",
       " 28079047,\n",
       " 28079048,\n",
       " 28079049,\n",
       " 28079050,\n",
       " 28079054,\n",
       " 28079055,\n",
       " 28079056,\n",
       " 28079057,\n",
       " 28079058,\n",
       " 28079059,\n",
       " 28079060]"
      ]
     },
     "execution_count": 13,
     "metadata": {},
     "output_type": "execute_result"
    }
   ],
   "source": [
    "stations_base_in_df = df_st['id'].to_list()\n",
    "stations_base_in_df"
   ]
  },
  {
   "cell_type": "code",
   "execution_count": 17,
   "metadata": {},
   "outputs": [
    {
     "name": "stdout",
     "output_type": "stream",
     "text": [
      "Stations comunes en todos los archivos:\n",
      "[28079008, 28079040, 28079011, 28079016, 28079018, 28079036, 28079024, 28079004, 28079038, 28079039]\n"
     ]
    }
   ],
   "source": [
    "def obtener_stations_unicos(archivo_csv):\n",
    "    df = pd.read_csv(archivo_csv)\n",
    "    return df['station'].unique().tolist()\n",
    "\n",
    "def encontrar_stations_comunes(lista_stations):\n",
    "    stations_comunes = set(lista_stations[0])\n",
    "    for stations in lista_stations[1:]:\n",
    "        stations_comunes.intersection_update(stations)\n",
    "    return list(stations_comunes)\n",
    "\n",
    "stations_unicos_por_archivo = []\n",
    "\n",
    "# Obtener los stations únicos de cada archivo .csv y almacenarlos en una lista\n",
    "for archivo_csv in files:\n",
    "    stations_unicos = obtener_stations_unicos(archivo_csv)\n",
    "    #print(stations_unicos)\n",
    "    stations_unicos_por_archivo.append(stations_unicos)\n",
    "\n",
    "# Encontrar el subconjunto de stations comunes a todos los archivos\n",
    "stations_comunes = encontrar_stations_comunes(stations_unicos_por_archivo)\n",
    "\n",
    "print(\"Stations comunes en todos los archivos:\")\n",
    "print(stations_comunes)"
   ]
  },
  {
   "cell_type": "code",
   "execution_count": 27,
   "metadata": {},
   "outputs": [
    {
     "data": {
      "text/plain": [
       "0"
      ]
     },
     "execution_count": 27,
     "metadata": {},
     "output_type": "execute_result"
    }
   ],
   "source": [
    "import gc \n",
    "gc.collect()"
   ]
  },
  {
   "cell_type": "code",
   "execution_count": 19,
   "metadata": {},
   "outputs": [],
   "source": [
    "def filtrar_stations(df, stations_permitidos):\n",
    "    return df[df['station'].isin(stations_permitidos)]"
   ]
  },
  {
   "cell_type": "code",
   "execution_count": 23,
   "metadata": {},
   "outputs": [],
   "source": [
    "carpeta_salida = os.path.join('.', 'out')\n",
    "os.makedirs(carpeta_salida, exist_ok=True)"
   ]
  },
  {
   "cell_type": "code",
   "execution_count": 24,
   "metadata": {},
   "outputs": [
    {
     "name": "stdout",
     "output_type": "stream",
     "text": [
      "Archivo: madrid_2005.csv - Filas iniciales: 237000 - Filas filtradas: 112824\n",
      "Archivo: madrid_2012.csv - Filas iniciales: 210720 - Filas filtradas: 210720\n",
      "Archivo: madrid_2007.csv - Filas iniciales: 225120 - Filas filtradas: 94224\n",
      "Archivo: madrid_2011.csv - Filas iniciales: 209928 - Filas filtradas: 209928\n",
      "Archivo: madrid_2015.csv - Filas iniciales: 210096 - Filas filtradas: 210096\n",
      "Archivo: madrid_2016.csv - Filas iniciales: 209496 - Filas filtradas: 209496\n",
      "Archivo: madrid_2001.csv - Filas iniciales: 217872 - Filas filtradas: 96408\n",
      "Archivo: madrid_2013.csv - Filas iniciales: 209880 - Filas filtradas: 209880\n",
      "Archivo: madrid_2010.csv - Filas iniciales: 209448 - Filas filtradas: 191664\n",
      "Archivo: madrid_2004.csv - Filas iniciales: 245496 - Filas filtradas: 113928\n",
      "Archivo: madrid_2017.csv - Filas iniciales: 210120 - Filas filtradas: 210120\n",
      "Archivo: madrid_2009.csv - Filas iniciales: 215688 - Filas filtradas: 103728\n",
      "Archivo: madrid_2006.csv - Filas iniciales: 230568 - Filas filtradas: 103440\n",
      "Archivo: madrid_2002.csv - Filas iniciales: 217296 - Filas filtradas: 96360\n",
      "Archivo: madrid_2008.csv - Filas iniciales: 226392 - Filas filtradas: 96432\n",
      "Archivo: madrid_2014.csv - Filas iniciales: 210024 - Filas filtradas: 210024\n",
      "Archivo: madrid_2018.csv - Filas iniciales: 69096 - Filas filtradas: 69096\n",
      "Archivo: madrid_2003.csv - Filas iniciales: 243984 - Filas filtradas: 113616\n",
      "Proceso completado. Los archivos filtrados han sido guardados en la carpeta 'out'.\n"
     ]
    }
   ],
   "source": [
    "# Filtrar y exportar los DataFrames\n",
    "for archivo_csv in files:\n",
    "    nombre_archivo = os.path.basename(archivo_csv)\n",
    "    df = pd.read_csv(archivo_csv)\n",
    "    filas_iniciales = len(df)\n",
    "    \n",
    "    df_filtrado = filtrar_stations(df, stations_base_in_df)\n",
    "    filas_filtradas = len(df_filtrado)\n",
    "    \n",
    "    # Ruta para guardar el archivo en la carpeta de salida\n",
    "    ruta_salida = os.path.join(carpeta_salida, nombre_archivo)\n",
    "    \n",
    "    # Exportar el DataFrame filtrado como un nuevo archivo .csv\n",
    "    df_filtrado.to_csv(ruta_salida, index=False)\n",
    "    \n",
    "    print(f\"Archivo: {nombre_archivo} - Filas iniciales: {filas_iniciales} - Filas filtradas: {filas_filtradas}\")\n",
    "\n",
    "print(\"Proceso completado. Los archivos filtrados han sido guardados en la carpeta 'out'.\")"
   ]
  },
  {
   "cell_type": "code",
   "execution_count": 26,
   "metadata": {},
   "outputs": [
    {
     "data": {
      "text/plain": [
       "['./out/madrid_2005.csv',\n",
       " './out/madrid_2012.csv',\n",
       " './out/madrid_2007.csv',\n",
       " './out/madrid_2011.csv',\n",
       " './out/madrid_2015.csv',\n",
       " './out/madrid_2016.csv',\n",
       " './out/madrid_2001.csv',\n",
       " './out/madrid_2013.csv',\n",
       " './out/madrid_2010.csv',\n",
       " './out/madrid_2004.csv',\n",
       " './out/madrid_2017.csv',\n",
       " './out/madrid_2009.csv',\n",
       " './out/madrid_2006.csv',\n",
       " './out/madrid_2002.csv',\n",
       " './out/madrid_2008.csv',\n",
       " './out/madrid_2014.csv',\n",
       " './out/madrid_2018.csv',\n",
       " './out/madrid_2003.csv']"
      ]
     },
     "execution_count": 26,
     "metadata": {},
     "output_type": "execute_result"
    }
   ],
   "source": [
    "OUTPUT_DIR = './out/'\n",
    "\n",
    "files_out = get_files(OUTPUT_DIR)\n",
    "files_out"
   ]
  },
  {
   "cell_type": "code",
   "execution_count": 28,
   "metadata": {},
   "outputs": [
    {
     "name": "stdout",
     "output_type": "stream",
     "text": [
      "Proceso completado. Los archivos separados por estaciones han sido guardados en la carpeta 'out'.\n"
     ]
    }
   ],
   "source": [
    "# Combinar todos los DataFrames en uno solo\n",
    "dfs = []\n",
    "for archivo_csv in files_out:\n",
    "    df = pd.read_csv(archivo_csv)\n",
    "    dfs.append(df)\n",
    "\n",
    "df_completo = pd.concat(dfs)\n",
    "\n",
    "# Crear la carpeta 'out' si no existe\n",
    "carpeta_salida = os.path.join('.', 'out/2/')\n",
    "os.makedirs(carpeta_salida, exist_ok=True)\n",
    "\n",
    "# Crear un archivo .csv por estación\n",
    "for station_id, df_station in df_completo.groupby('station'):\n",
    "    nombre_archivo = f'station_{station_id}.csv'\n",
    "    ruta_salida = os.path.join(carpeta_salida, nombre_archivo)\n",
    "    df_station.to_csv(ruta_salida, index=False)\n",
    "\n",
    "print(\"Proceso completado. Los archivos separados por estaciones han sido guardados en la carpeta 'out'.\")"
   ]
  },
  {
   "cell_type": "code",
   "execution_count": 30,
   "metadata": {},
   "outputs": [
    {
     "name": "stdout",
     "output_type": "stream",
     "text": [
      "Collecting matplotlib\n",
      "  Using cached matplotlib-3.3.4-cp36-cp36m-manylinux1_x86_64.whl (11.5 MB)\n",
      "Collecting pillow>=6.2.0\n",
      "  Using cached Pillow-8.4.0-cp36-cp36m-manylinux_2_17_x86_64.manylinux2014_x86_64.whl (3.1 MB)\n",
      "Requirement already satisfied: numpy>=1.15 in ./venv/lib/python3.6/site-packages (from matplotlib) (1.19.5)\n",
      "Collecting cycler>=0.10\n",
      "  Using cached cycler-0.11.0-py3-none-any.whl (6.4 kB)\n",
      "Collecting pyparsing!=2.0.4,!=2.1.2,!=2.1.6,>=2.0.3\n",
      "  Using cached pyparsing-3.1.0-py3-none-any.whl (102 kB)\n",
      "Collecting kiwisolver>=1.0.1\n",
      "  Using cached kiwisolver-1.3.1-cp36-cp36m-manylinux1_x86_64.whl (1.1 MB)\n",
      "Requirement already satisfied: python-dateutil>=2.1 in ./venv/lib/python3.6/site-packages (from matplotlib) (2.8.2)\n",
      "Requirement already satisfied: six>=1.5 in ./venv/lib/python3.6/site-packages (from python-dateutil>=2.1->matplotlib) (1.16.0)\n",
      "Installing collected packages: pyparsing, pillow, kiwisolver, cycler, matplotlib\n",
      "Successfully installed cycler-0.11.0 kiwisolver-1.3.1 matplotlib-3.3.4 pillow-8.4.0 pyparsing-3.1.0\n"
     ]
    }
   ],
   "source": [
    "!pip3 install matplotlib"
   ]
  },
  {
   "cell_type": "code",
   "execution_count": 39,
   "metadata": {},
   "outputs": [],
   "source": [
    "import matplotlib.pyplot as plt "
   ]
  },
  {
   "cell_type": "code",
   "execution_count": 54,
   "metadata": {},
   "outputs": [
    {
     "data": {
      "text/html": [
       "<div>\n",
       "<style scoped>\n",
       "    .dataframe tbody tr th:only-of-type {\n",
       "        vertical-align: middle;\n",
       "    }\n",
       "\n",
       "    .dataframe tbody tr th {\n",
       "        vertical-align: top;\n",
       "    }\n",
       "\n",
       "    .dataframe thead th {\n",
       "        text-align: right;\n",
       "    }\n",
       "</style>\n",
       "<table border=\"1\" class=\"dataframe\">\n",
       "  <thead>\n",
       "    <tr style=\"text-align: right;\">\n",
       "      <th></th>\n",
       "      <th>BEN</th>\n",
       "      <th>CO</th>\n",
       "      <th>EBE</th>\n",
       "      <th>MXY</th>\n",
       "      <th>NMHC</th>\n",
       "      <th>NO_2</th>\n",
       "      <th>NOx</th>\n",
       "      <th>OXY</th>\n",
       "      <th>O_3</th>\n",
       "      <th>PM10</th>\n",
       "      <th>PM25</th>\n",
       "      <th>PXY</th>\n",
       "      <th>SO_2</th>\n",
       "      <th>TCH</th>\n",
       "      <th>TOL</th>\n",
       "      <th>station</th>\n",
       "      <th>NO</th>\n",
       "      <th>CH4</th>\n",
       "    </tr>\n",
       "    <tr>\n",
       "      <th>date</th>\n",
       "      <th></th>\n",
       "      <th></th>\n",
       "      <th></th>\n",
       "      <th></th>\n",
       "      <th></th>\n",
       "      <th></th>\n",
       "      <th></th>\n",
       "      <th></th>\n",
       "      <th></th>\n",
       "      <th></th>\n",
       "      <th></th>\n",
       "      <th></th>\n",
       "      <th></th>\n",
       "      <th></th>\n",
       "      <th></th>\n",
       "      <th></th>\n",
       "      <th></th>\n",
       "      <th></th>\n",
       "    </tr>\n",
       "  </thead>\n",
       "  <tbody>\n",
       "    <tr>\n",
       "      <th>2005-11-01 01:00:00</th>\n",
       "      <td>NaN</td>\n",
       "      <td>0.42</td>\n",
       "      <td>NaN</td>\n",
       "      <td>NaN</td>\n",
       "      <td>NaN</td>\n",
       "      <td>37.220001</td>\n",
       "      <td>52.009998</td>\n",
       "      <td>NaN</td>\n",
       "      <td>21.379999</td>\n",
       "      <td>15.160000</td>\n",
       "      <td>NaN</td>\n",
       "      <td>NaN</td>\n",
       "      <td>6.60</td>\n",
       "      <td>NaN</td>\n",
       "      <td>NaN</td>\n",
       "      <td>28079004</td>\n",
       "      <td>NaN</td>\n",
       "      <td>NaN</td>\n",
       "    </tr>\n",
       "    <tr>\n",
       "      <th>2005-11-01 02:00:00</th>\n",
       "      <td>NaN</td>\n",
       "      <td>0.38</td>\n",
       "      <td>NaN</td>\n",
       "      <td>NaN</td>\n",
       "      <td>NaN</td>\n",
       "      <td>36.959999</td>\n",
       "      <td>49.919998</td>\n",
       "      <td>NaN</td>\n",
       "      <td>19.959999</td>\n",
       "      <td>17.940001</td>\n",
       "      <td>NaN</td>\n",
       "      <td>NaN</td>\n",
       "      <td>6.59</td>\n",
       "      <td>NaN</td>\n",
       "      <td>NaN</td>\n",
       "      <td>28079004</td>\n",
       "      <td>NaN</td>\n",
       "      <td>NaN</td>\n",
       "    </tr>\n",
       "    <tr>\n",
       "      <th>2005-11-01 03:00:00</th>\n",
       "      <td>NaN</td>\n",
       "      <td>0.36</td>\n",
       "      <td>NaN</td>\n",
       "      <td>NaN</td>\n",
       "      <td>NaN</td>\n",
       "      <td>33.270000</td>\n",
       "      <td>46.259998</td>\n",
       "      <td>NaN</td>\n",
       "      <td>20.440001</td>\n",
       "      <td>11.600000</td>\n",
       "      <td>NaN</td>\n",
       "      <td>NaN</td>\n",
       "      <td>6.47</td>\n",
       "      <td>NaN</td>\n",
       "      <td>NaN</td>\n",
       "      <td>28079004</td>\n",
       "      <td>NaN</td>\n",
       "      <td>NaN</td>\n",
       "    </tr>\n",
       "    <tr>\n",
       "      <th>2005-11-01 04:00:00</th>\n",
       "      <td>NaN</td>\n",
       "      <td>0.29</td>\n",
       "      <td>NaN</td>\n",
       "      <td>NaN</td>\n",
       "      <td>NaN</td>\n",
       "      <td>28.780001</td>\n",
       "      <td>31.780001</td>\n",
       "      <td>NaN</td>\n",
       "      <td>23.290001</td>\n",
       "      <td>2.800000</td>\n",
       "      <td>NaN</td>\n",
       "      <td>NaN</td>\n",
       "      <td>6.23</td>\n",
       "      <td>NaN</td>\n",
       "      <td>NaN</td>\n",
       "      <td>28079004</td>\n",
       "      <td>NaN</td>\n",
       "      <td>NaN</td>\n",
       "    </tr>\n",
       "    <tr>\n",
       "      <th>2005-11-01 05:00:00</th>\n",
       "      <td>NaN</td>\n",
       "      <td>0.25</td>\n",
       "      <td>NaN</td>\n",
       "      <td>NaN</td>\n",
       "      <td>NaN</td>\n",
       "      <td>19.309999</td>\n",
       "      <td>21.910000</td>\n",
       "      <td>NaN</td>\n",
       "      <td>26.629999</td>\n",
       "      <td>19.709999</td>\n",
       "      <td>NaN</td>\n",
       "      <td>NaN</td>\n",
       "      <td>6.05</td>\n",
       "      <td>NaN</td>\n",
       "      <td>NaN</td>\n",
       "      <td>28079004</td>\n",
       "      <td>NaN</td>\n",
       "      <td>NaN</td>\n",
       "    </tr>\n",
       "  </tbody>\n",
       "</table>\n",
       "</div>"
      ],
      "text/plain": [
       "                     BEN    CO  EBE  MXY  NMHC       NO_2        NOx  OXY  \\\n",
       "date                                                                        \n",
       "2005-11-01 01:00:00  NaN  0.42  NaN  NaN   NaN  37.220001  52.009998  NaN   \n",
       "2005-11-01 02:00:00  NaN  0.38  NaN  NaN   NaN  36.959999  49.919998  NaN   \n",
       "2005-11-01 03:00:00  NaN  0.36  NaN  NaN   NaN  33.270000  46.259998  NaN   \n",
       "2005-11-01 04:00:00  NaN  0.29  NaN  NaN   NaN  28.780001  31.780001  NaN   \n",
       "2005-11-01 05:00:00  NaN  0.25  NaN  NaN   NaN  19.309999  21.910000  NaN   \n",
       "\n",
       "                           O_3       PM10  PM25  PXY  SO_2  TCH  TOL  \\\n",
       "date                                                                   \n",
       "2005-11-01 01:00:00  21.379999  15.160000   NaN  NaN  6.60  NaN  NaN   \n",
       "2005-11-01 02:00:00  19.959999  17.940001   NaN  NaN  6.59  NaN  NaN   \n",
       "2005-11-01 03:00:00  20.440001  11.600000   NaN  NaN  6.47  NaN  NaN   \n",
       "2005-11-01 04:00:00  23.290001   2.800000   NaN  NaN  6.23  NaN  NaN   \n",
       "2005-11-01 05:00:00  26.629999  19.709999   NaN  NaN  6.05  NaN  NaN   \n",
       "\n",
       "                      station  NO  CH4  \n",
       "date                                    \n",
       "2005-11-01 01:00:00  28079004 NaN  NaN  \n",
       "2005-11-01 02:00:00  28079004 NaN  NaN  \n",
       "2005-11-01 03:00:00  28079004 NaN  NaN  \n",
       "2005-11-01 04:00:00  28079004 NaN  NaN  \n",
       "2005-11-01 05:00:00  28079004 NaN  NaN  "
      ]
     },
     "execution_count": 54,
     "metadata": {},
     "output_type": "execute_result"
    }
   ],
   "source": [
    "df = pd.read_csv('./out/2/station_28079004.csv', parse_dates=['date'], index_col='date')\n",
    "df.head()"
   ]
  },
  {
   "cell_type": "code",
   "execution_count": 55,
   "metadata": {},
   "outputs": [
    {
     "data": {
      "text/plain": [
       "Index(['BEN', 'CO', 'EBE', 'MXY', 'NMHC', 'NO_2', 'NOx', 'OXY', 'O_3', 'PM10',\n",
       "       'PM25', 'PXY', 'SO_2', 'TCH', 'TOL', 'station', 'NO', 'CH4'],\n",
       "      dtype='object')"
      ]
     },
     "execution_count": 55,
     "metadata": {},
     "output_type": "execute_result"
    }
   ],
   "source": [
    "df.columns"
   ]
  },
  {
   "cell_type": "code",
   "execution_count": 56,
   "metadata": {},
   "outputs": [
    {
     "data": {
      "text/plain": [
       "BEN        151776\n",
       "CO            563\n",
       "EBE        151776\n",
       "MXY        151776\n",
       "NMHC       151776\n",
       "NO_2          503\n",
       "NOx         59456\n",
       "OXY        151776\n",
       "O_3         73256\n",
       "PM10        73502\n",
       "PM25       151776\n",
       "PXY        151776\n",
       "SO_2          465\n",
       "TCH        151776\n",
       "TOL        151776\n",
       "station         0\n",
       "NO          87746\n",
       "CH4        151776\n",
       "dtype: int64"
      ]
     },
     "execution_count": 56,
     "metadata": {},
     "output_type": "execute_result"
    }
   ],
   "source": [
    "df.isnull().sum()"
   ]
  },
  {
   "cell_type": "code",
   "execution_count": 59,
   "metadata": {},
   "outputs": [
    {
     "data": {
      "text/plain": [
       "<AxesSubplot:xlabel='date'>"
      ]
     },
     "execution_count": 59,
     "metadata": {},
     "output_type": "execute_result"
    },
    {
     "data": {
      "image/png": "[encoded data removed]",
      "text/plain": [
       "<Figure size 1440x720 with 1 Axes>"
      ]
     },
     "metadata": {
      "needs_background": "light"
     },
     "output_type": "display_data"
    }
   ],
   "source": [
    "df['NOx'].plot(figsize=(20, 10))"
   ]
  },
  {
   "cell_type": "code",
   "execution_count": 51,
   "metadata": {},
   "outputs": [
    {
     "data": {
      "text/plain": [
       "['./out/2/station_28079057.csv',\n",
       " './out/2/station_28079055.csv',\n",
       " './out/2/station_28079039.csv',\n",
       " './out/2/station_28079058.csv',\n",
       " './out/2/station_28079056.csv',\n",
       " './out/2/station_28079060.csv',\n",
       " './out/2/station_28079024.csv',\n",
       " './out/2/station_28079040.csv',\n",
       " './out/2/station_28079049.csv',\n",
       " './out/2/station_28079036.csv',\n",
       " './out/2/station_28079035.csv',\n",
       " './out/2/station_28079004.csv',\n",
       " './out/2/station_28079050.csv',\n",
       " './out/2/station_28079054.csv',\n",
       " './out/2/station_28079016.csv',\n",
       " './out/2/station_28079011.csv',\n",
       " './out/2/station_28079048.csv',\n",
       " './out/2/station_28079038.csv',\n",
       " './out/2/station_28079018.csv',\n",
       " './out/2/station_28079059.csv',\n",
       " './out/2/station_28079027.csv',\n",
       " './out/2/station_28079008.csv',\n",
       " './out/2/station_28079047.csv',\n",
       " './out/2/station_28079017.csv']"
      ]
     },
     "execution_count": 51,
     "metadata": {},
     "output_type": "execute_result"
    }
   ],
   "source": [
    "OUTPUT_DIR_ST = './out/2/'\n",
    "\n",
    "files_out = get_files(OUTPUT_DIR_ST)\n",
    "files_out"
   ]
  },
  {
   "cell_type": "code",
   "execution_count": 61,
   "metadata": {},
   "outputs": [
    {
     "name": "stdout",
     "output_type": "stream",
     "text": [
      "['date', 'BEN', 'CO', 'EBE', 'MXY', 'NMHC', 'NO_2', 'NOx', 'OXY', 'O_3', 'PM10', 'PM25', 'PXY', 'SO_2', 'TCH', 'TOL', 'station', 'NO', 'CH4']\n",
      "['date', 'BEN', 'CO', 'EBE', 'MXY', 'NMHC', 'NO_2', 'NOx', 'OXY', 'O_3', 'PM10', 'PM25', 'PXY', 'SO_2', 'TCH', 'TOL', 'station', 'NO', 'CH4']\n",
      "['date', 'BEN', 'CO', 'EBE', 'MXY', 'NMHC', 'NO_2', 'NOx', 'OXY', 'O_3', 'PM10', 'PM25', 'PXY', 'SO_2', 'TCH', 'TOL', 'station', 'NO', 'CH4']\n",
      "['date', 'BEN', 'CO', 'EBE', 'MXY', 'NMHC', 'NO_2', 'NOx', 'OXY', 'O_3', 'PM10', 'PM25', 'PXY', 'SO_2', 'TCH', 'TOL', 'station', 'NO', 'CH4']\n",
      "['date', 'BEN', 'CO', 'EBE', 'MXY', 'NMHC', 'NO_2', 'NOx', 'OXY', 'O_3', 'PM10', 'PM25', 'PXY', 'SO_2', 'TCH', 'TOL', 'station', 'NO', 'CH4']\n",
      "['date', 'BEN', 'CO', 'EBE', 'MXY', 'NMHC', 'NO_2', 'NOx', 'OXY', 'O_3', 'PM10', 'PM25', 'PXY', 'SO_2', 'TCH', 'TOL', 'station', 'NO', 'CH4']\n",
      "['date', 'BEN', 'CO', 'EBE', 'MXY', 'NMHC', 'NO_2', 'NOx', 'OXY', 'O_3', 'PM10', 'PM25', 'PXY', 'SO_2', 'TCH', 'TOL', 'station', 'NO', 'CH4']\n",
      "['date', 'BEN', 'CO', 'EBE', 'MXY', 'NMHC', 'NO_2', 'NOx', 'OXY', 'O_3', 'PM10', 'PM25', 'PXY', 'SO_2', 'TCH', 'TOL', 'station', 'NO', 'CH4']\n",
      "['date', 'BEN', 'CO', 'EBE', 'MXY', 'NMHC', 'NO_2', 'NOx', 'OXY', 'O_3', 'PM10', 'PM25', 'PXY', 'SO_2', 'TCH', 'TOL', 'station', 'NO', 'CH4']\n",
      "['date', 'BEN', 'CO', 'EBE', 'MXY', 'NMHC', 'NO_2', 'NOx', 'OXY', 'O_3', 'PM10', 'PM25', 'PXY', 'SO_2', 'TCH', 'TOL', 'station', 'NO', 'CH4']\n",
      "['date', 'BEN', 'CO', 'EBE', 'MXY', 'NMHC', 'NO_2', 'NOx', 'OXY', 'O_3', 'PM10', 'PM25', 'PXY', 'SO_2', 'TCH', 'TOL', 'station', 'NO', 'CH4']\n",
      "['date', 'BEN', 'CO', 'EBE', 'MXY', 'NMHC', 'NO_2', 'NOx', 'OXY', 'O_3', 'PM10', 'PM25', 'PXY', 'SO_2', 'TCH', 'TOL', 'station', 'NO', 'CH4']\n",
      "['date', 'BEN', 'CO', 'EBE', 'MXY', 'NMHC', 'NO_2', 'NOx', 'OXY', 'O_3', 'PM10', 'PM25', 'PXY', 'SO_2', 'TCH', 'TOL', 'station', 'NO', 'CH4']\n",
      "['date', 'BEN', 'CO', 'EBE', 'MXY', 'NMHC', 'NO_2', 'NOx', 'OXY', 'O_3', 'PM10', 'PM25', 'PXY', 'SO_2', 'TCH', 'TOL', 'station', 'NO', 'CH4']\n",
      "['date', 'BEN', 'CO', 'EBE', 'MXY', 'NMHC', 'NO_2', 'NOx', 'OXY', 'O_3', 'PM10', 'PM25', 'PXY', 'SO_2', 'TCH', 'TOL', 'station', 'NO', 'CH4']\n",
      "['date', 'BEN', 'CO', 'EBE', 'MXY', 'NMHC', 'NO_2', 'NOx', 'OXY', 'O_3', 'PM10', 'PM25', 'PXY', 'SO_2', 'TCH', 'TOL', 'station', 'NO', 'CH4']\n",
      "['date', 'BEN', 'CO', 'EBE', 'MXY', 'NMHC', 'NO_2', 'NOx', 'OXY', 'O_3', 'PM10', 'PM25', 'PXY', 'SO_2', 'TCH', 'TOL', 'station', 'NO', 'CH4']\n",
      "['date', 'BEN', 'CO', 'EBE', 'MXY', 'NMHC', 'NO_2', 'NOx', 'OXY', 'O_3', 'PM10', 'PM25', 'PXY', 'SO_2', 'TCH', 'TOL', 'station', 'NO', 'CH4']\n",
      "['date', 'BEN', 'CO', 'EBE', 'MXY', 'NMHC', 'NO_2', 'NOx', 'OXY', 'O_3', 'PM10', 'PM25', 'PXY', 'SO_2', 'TCH', 'TOL', 'station', 'NO', 'CH4']\n",
      "['date', 'BEN', 'CO', 'EBE', 'MXY', 'NMHC', 'NO_2', 'NOx', 'OXY', 'O_3', 'PM10', 'PM25', 'PXY', 'SO_2', 'TCH', 'TOL', 'station', 'NO', 'CH4']\n",
      "['date', 'BEN', 'CO', 'EBE', 'MXY', 'NMHC', 'NO_2', 'NOx', 'OXY', 'O_3', 'PM10', 'PM25', 'PXY', 'SO_2', 'TCH', 'TOL', 'station', 'NO', 'CH4']\n",
      "['date', 'BEN', 'CO', 'EBE', 'MXY', 'NMHC', 'NO_2', 'NOx', 'OXY', 'O_3', 'PM10', 'PM25', 'PXY', 'SO_2', 'TCH', 'TOL', 'station', 'NO', 'CH4']\n",
      "['date', 'BEN', 'CO', 'EBE', 'MXY', 'NMHC', 'NO_2', 'NOx', 'OXY', 'O_3', 'PM10', 'PM25', 'PXY', 'SO_2', 'TCH', 'TOL', 'station', 'NO', 'CH4']\n",
      "['date', 'BEN', 'CO', 'EBE', 'MXY', 'NMHC', 'NO_2', 'NOx', 'OXY', 'O_3', 'PM10', 'PM25', 'PXY', 'SO_2', 'TCH', 'TOL', 'station', 'NO', 'CH4']\n"
     ]
    }
   ],
   "source": [
    "for file in files_out:\n",
    "    nombres_columnas = obtener_nombres_columnas(file)\n",
    "    print(nombres_columnas)"
   ]
  },
  {
   "cell_type": "code",
   "execution_count": 60,
   "metadata": {},
   "outputs": [
    {
     "data": {
      "text/html": [
       "<div>\n",
       "<style scoped>\n",
       "    .dataframe tbody tr th:only-of-type {\n",
       "        vertical-align: middle;\n",
       "    }\n",
       "\n",
       "    .dataframe tbody tr th {\n",
       "        vertical-align: top;\n",
       "    }\n",
       "\n",
       "    .dataframe thead th {\n",
       "        text-align: right;\n",
       "    }\n",
       "</style>\n",
       "<table border=\"1\" class=\"dataframe\">\n",
       "  <thead>\n",
       "    <tr style=\"text-align: right;\">\n",
       "      <th></th>\n",
       "      <th>id</th>\n",
       "      <th>name</th>\n",
       "      <th>address</th>\n",
       "      <th>lon</th>\n",
       "      <th>lat</th>\n",
       "      <th>elevation</th>\n",
       "    </tr>\n",
       "  </thead>\n",
       "  <tbody>\n",
       "    <tr>\n",
       "      <th>0</th>\n",
       "      <td>28079004</td>\n",
       "      <td>Pza. de España</td>\n",
       "      <td>Plaza de España</td>\n",
       "      <td>-3.712247</td>\n",
       "      <td>40.423853</td>\n",
       "      <td>635</td>\n",
       "    </tr>\n",
       "    <tr>\n",
       "      <th>1</th>\n",
       "      <td>28079008</td>\n",
       "      <td>Escuelas Aguirre</td>\n",
       "      <td>Entre C/ Alcalá y C/ O’ Donell</td>\n",
       "      <td>-3.682319</td>\n",
       "      <td>40.421564</td>\n",
       "      <td>670</td>\n",
       "    </tr>\n",
       "    <tr>\n",
       "      <th>2</th>\n",
       "      <td>28079011</td>\n",
       "      <td>Avda. Ramón y Cajal</td>\n",
       "      <td>Avda. Ramón y Cajal  esq. C/ Príncipe de Vergara</td>\n",
       "      <td>-3.677356</td>\n",
       "      <td>40.451475</td>\n",
       "      <td>708</td>\n",
       "    </tr>\n",
       "    <tr>\n",
       "      <th>3</th>\n",
       "      <td>28079016</td>\n",
       "      <td>Arturo Soria</td>\n",
       "      <td>C/ Arturo Soria  esq. C/  Vizconde de los Asilos</td>\n",
       "      <td>-3.639233</td>\n",
       "      <td>40.440047</td>\n",
       "      <td>693</td>\n",
       "    </tr>\n",
       "    <tr>\n",
       "      <th>4</th>\n",
       "      <td>28079017</td>\n",
       "      <td>Villaverde</td>\n",
       "      <td>C/. Juan Peñalver</td>\n",
       "      <td>-3.713322</td>\n",
       "      <td>40.347139</td>\n",
       "      <td>604</td>\n",
       "    </tr>\n",
       "  </tbody>\n",
       "</table>\n",
       "</div>"
      ],
      "text/plain": [
       "         id                 name  \\\n",
       "0  28079004       Pza. de España   \n",
       "1  28079008     Escuelas Aguirre   \n",
       "2  28079011  Avda. Ramón y Cajal   \n",
       "3  28079016         Arturo Soria   \n",
       "4  28079017           Villaverde   \n",
       "\n",
       "                                             address       lon        lat  \\\n",
       "0                                    Plaza de España -3.712247  40.423853   \n",
       "1                    Entre C/ Alcalá y C/ O’ Donell  -3.682319  40.421564   \n",
       "2   Avda. Ramón y Cajal  esq. C/ Príncipe de Vergara -3.677356  40.451475   \n",
       "3  C/ Arturo Soria  esq. C/  Vizconde de los Asilos  -3.639233  40.440047   \n",
       "4                                  C/. Juan Peñalver -3.713322  40.347139   \n",
       "\n",
       "   elevation  \n",
       "0        635  \n",
       "1        670  \n",
       "2        708  \n",
       "3        693  \n",
       "4        604  "
      ]
     },
     "execution_count": 60,
     "metadata": {},
     "output_type": "execute_result"
    }
   ],
   "source": [
    "df_station = pd.read_csv('./data/stations.csv')\n",
    "df_station.head()"
   ]
  },
  {
   "cell_type": "code",
   "execution_count": 62,
   "metadata": {},
   "outputs": [],
   "source": [
    "contaminantes = ['BEN', 'CO', 'EBE', 'MXY', 'NMHC', 'NO_2', 'NOx', 'OXY', 'O_3', 'PM10', 'PM25', 'PXY', 'SO_2', 'TCH', 'TOL']"
   ]
  },
  {
   "cell_type": "code",
   "execution_count": 65,
   "metadata": {},
   "outputs": [
    {
     "name": "stdout",
     "output_type": "stream",
     "text": [
      "Proceso completado. Se ha exportado el nuevo 'stations.csv'.\n"
     ]
    }
   ],
   "source": [
    "# Agregar columnas para cada contaminante en df_stations\n",
    "for contaminante in contaminantes:\n",
    "    df_station[contaminante] = 0.0\n",
    "\n",
    "# Iterar a través de los archivos por estaciones y calcular el porcentaje de NaN\n",
    "for archivo_csv in files_out:\n",
    "    nombre_archivo = os.path.basename(archivo_csv)\n",
    "    station_id = nombre_archivo.split('_')[1].split('.')[0]\n",
    "    \n",
    "    df_estacion = pd.read_csv(archivo_csv)\n",
    "    \n",
    "    for contaminante in contaminantes:\n",
    "        porcentaje_nan = df_estacion[contaminante].isnull().mean() * 100\n",
    "        df_station.loc[df_station['id'] == int(station_id), contaminante] = porcentaje_nan\n",
    "\n",
    "# Exportar el nuevo 'stations.csv' con las columnas de porcentaje de NaN\n",
    "ruta_salida = os.path.join(carpeta_salida, 'new_stations.csv')\n",
    "df_station.to_csv(ruta_salida, index=False)\n",
    "\n",
    "print(\"Proceso completado. Se ha exportado el nuevo 'stations.csv'.\")"
   ]
  },
  {
   "cell_type": "code",
   "execution_count": null,
   "metadata": {},
   "outputs": [],
   "source": []
  },
  {
   "cell_type": "code",
   "execution_count": 67,
   "metadata": {},
   "outputs": [
    {
     "data": {
      "text/html": [
       "<div>\n",
       "<style scoped>\n",
       "    .dataframe tbody tr th:only-of-type {\n",
       "        vertical-align: middle;\n",
       "    }\n",
       "\n",
       "    .dataframe tbody tr th {\n",
       "        vertical-align: top;\n",
       "    }\n",
       "\n",
       "    .dataframe thead th {\n",
       "        text-align: right;\n",
       "    }\n",
       "</style>\n",
       "<table border=\"1\" class=\"dataframe\">\n",
       "  <thead>\n",
       "    <tr style=\"text-align: right;\">\n",
       "      <th></th>\n",
       "      <th>id</th>\n",
       "      <th>name</th>\n",
       "      <th>address</th>\n",
       "      <th>lon</th>\n",
       "      <th>lat</th>\n",
       "      <th>elevation</th>\n",
       "      <th>BEN</th>\n",
       "      <th>CO</th>\n",
       "      <th>EBE</th>\n",
       "      <th>MXY</th>\n",
       "      <th>...</th>\n",
       "      <th>NO_2</th>\n",
       "      <th>NOx</th>\n",
       "      <th>OXY</th>\n",
       "      <th>O_3</th>\n",
       "      <th>PM10</th>\n",
       "      <th>PM25</th>\n",
       "      <th>PXY</th>\n",
       "      <th>SO_2</th>\n",
       "      <th>TCH</th>\n",
       "      <th>TOL</th>\n",
       "    </tr>\n",
       "  </thead>\n",
       "  <tbody>\n",
       "    <tr>\n",
       "      <th>0</th>\n",
       "      <td>28079004</td>\n",
       "      <td>Pza. de España</td>\n",
       "      <td>Plaza de España</td>\n",
       "      <td>-3.712247</td>\n",
       "      <td>40.423853</td>\n",
       "      <td>635</td>\n",
       "      <td>100.000000</td>\n",
       "      <td>0.370941</td>\n",
       "      <td>100.000000</td>\n",
       "      <td>100.0</td>\n",
       "      <td>...</td>\n",
       "      <td>0.331409</td>\n",
       "      <td>39.173519</td>\n",
       "      <td>100.0</td>\n",
       "      <td>48.265865</td>\n",
       "      <td>48.427946</td>\n",
       "      <td>100.000000</td>\n",
       "      <td>100.0</td>\n",
       "      <td>0.306373</td>\n",
       "      <td>100.000000</td>\n",
       "      <td>100.000000</td>\n",
       "    </tr>\n",
       "    <tr>\n",
       "      <th>1</th>\n",
       "      <td>28079008</td>\n",
       "      <td>Escuelas Aguirre</td>\n",
       "      <td>Entre C/ Alcalá y C/ O’ Donell</td>\n",
       "      <td>-3.682319</td>\n",
       "      <td>40.421564</td>\n",
       "      <td>670</td>\n",
       "      <td>5.386511</td>\n",
       "      <td>0.607415</td>\n",
       "      <td>5.401553</td>\n",
       "      <td>100.0</td>\n",
       "      <td>...</td>\n",
       "      <td>0.848805</td>\n",
       "      <td>42.714601</td>\n",
       "      <td>100.0</td>\n",
       "      <td>1.280729</td>\n",
       "      <td>2.691107</td>\n",
       "      <td>47.235115</td>\n",
       "      <td>100.0</td>\n",
       "      <td>0.706263</td>\n",
       "      <td>16.004097</td>\n",
       "      <td>5.695949</td>\n",
       "    </tr>\n",
       "    <tr>\n",
       "      <th>2</th>\n",
       "      <td>28079011</td>\n",
       "      <td>Avda. Ramón y Cajal</td>\n",
       "      <td>Avda. Ramón y Cajal  esq. C/ Príncipe de Vergara</td>\n",
       "      <td>-3.677356</td>\n",
       "      <td>40.451475</td>\n",
       "      <td>708</td>\n",
       "      <td>52.138323</td>\n",
       "      <td>48.292371</td>\n",
       "      <td>52.157421</td>\n",
       "      <td>100.0</td>\n",
       "      <td>...</td>\n",
       "      <td>0.417523</td>\n",
       "      <td>39.243191</td>\n",
       "      <td>100.0</td>\n",
       "      <td>48.382593</td>\n",
       "      <td>48.350983</td>\n",
       "      <td>100.000000</td>\n",
       "      <td>100.0</td>\n",
       "      <td>48.306201</td>\n",
       "      <td>52.834413</td>\n",
       "      <td>52.277936</td>\n",
       "    </tr>\n",
       "    <tr>\n",
       "      <th>3</th>\n",
       "      <td>28079016</td>\n",
       "      <td>Arturo Soria</td>\n",
       "      <td>C/ Arturo Soria  esq. C/  Vizconde de los Asilos</td>\n",
       "      <td>-3.639233</td>\n",
       "      <td>40.440047</td>\n",
       "      <td>693</td>\n",
       "      <td>100.000000</td>\n",
       "      <td>0.391366</td>\n",
       "      <td>100.000000</td>\n",
       "      <td>100.0</td>\n",
       "      <td>...</td>\n",
       "      <td>0.320209</td>\n",
       "      <td>39.172860</td>\n",
       "      <td>100.0</td>\n",
       "      <td>0.424968</td>\n",
       "      <td>49.978916</td>\n",
       "      <td>100.000000</td>\n",
       "      <td>100.0</td>\n",
       "      <td>48.281019</td>\n",
       "      <td>100.000000</td>\n",
       "      <td>100.000000</td>\n",
       "    </tr>\n",
       "    <tr>\n",
       "      <th>4</th>\n",
       "      <td>28079017</td>\n",
       "      <td>Villaverde</td>\n",
       "      <td>C/. Juan Peñalver</td>\n",
       "      <td>-3.713322</td>\n",
       "      <td>40.347139</td>\n",
       "      <td>604</td>\n",
       "      <td>100.000000</td>\n",
       "      <td>66.039746</td>\n",
       "      <td>100.000000</td>\n",
       "      <td>100.0</td>\n",
       "      <td>...</td>\n",
       "      <td>0.571913</td>\n",
       "      <td>51.983794</td>\n",
       "      <td>100.0</td>\n",
       "      <td>1.155176</td>\n",
       "      <td>66.141031</td>\n",
       "      <td>100.000000</td>\n",
       "      <td>100.0</td>\n",
       "      <td>0.582390</td>\n",
       "      <td>100.000000</td>\n",
       "      <td>100.000000</td>\n",
       "    </tr>\n",
       "  </tbody>\n",
       "</table>\n",
       "<p>5 rows × 21 columns</p>\n",
       "</div>"
      ],
      "text/plain": [
       "         id                 name  \\\n",
       "0  28079004       Pza. de España   \n",
       "1  28079008     Escuelas Aguirre   \n",
       "2  28079011  Avda. Ramón y Cajal   \n",
       "3  28079016         Arturo Soria   \n",
       "4  28079017           Villaverde   \n",
       "\n",
       "                                             address       lon        lat  \\\n",
       "0                                    Plaza de España -3.712247  40.423853   \n",
       "1                    Entre C/ Alcalá y C/ O’ Donell  -3.682319  40.421564   \n",
       "2   Avda. Ramón y Cajal  esq. C/ Príncipe de Vergara -3.677356  40.451475   \n",
       "3  C/ Arturo Soria  esq. C/  Vizconde de los Asilos  -3.639233  40.440047   \n",
       "4                                  C/. Juan Peñalver -3.713322  40.347139   \n",
       "\n",
       "   elevation         BEN         CO         EBE    MXY  ...      NO_2  \\\n",
       "0        635  100.000000   0.370941  100.000000  100.0  ...  0.331409   \n",
       "1        670    5.386511   0.607415    5.401553  100.0  ...  0.848805   \n",
       "2        708   52.138323  48.292371   52.157421  100.0  ...  0.417523   \n",
       "3        693  100.000000   0.391366  100.000000  100.0  ...  0.320209   \n",
       "4        604  100.000000  66.039746  100.000000  100.0  ...  0.571913   \n",
       "\n",
       "         NOx    OXY        O_3       PM10        PM25    PXY       SO_2  \\\n",
       "0  39.173519  100.0  48.265865  48.427946  100.000000  100.0   0.306373   \n",
       "1  42.714601  100.0   1.280729   2.691107   47.235115  100.0   0.706263   \n",
       "2  39.243191  100.0  48.382593  48.350983  100.000000  100.0  48.306201   \n",
       "3  39.172860  100.0   0.424968  49.978916  100.000000  100.0  48.281019   \n",
       "4  51.983794  100.0   1.155176  66.141031  100.000000  100.0   0.582390   \n",
       "\n",
       "          TCH         TOL  \n",
       "0  100.000000  100.000000  \n",
       "1   16.004097    5.695949  \n",
       "2   52.834413   52.277936  \n",
       "3  100.000000  100.000000  \n",
       "4  100.000000  100.000000  \n",
       "\n",
       "[5 rows x 21 columns]"
      ]
     },
     "execution_count": 67,
     "metadata": {},
     "output_type": "execute_result"
    }
   ],
   "source": [
    "df_station_final = pd.read_csv('./out/2/new_stations.csv')\n",
    "df_station_final.head()"
   ]
  },
  {
   "cell_type": "code",
   "execution_count": 68,
   "metadata": {},
   "outputs": [
    {
     "name": "stdout",
     "output_type": "stream",
     "text": [
      "Proceso completado. Se ha exportado el DataFrame a JSON con el formato deseado.\n"
     ]
    }
   ],
   "source": [
    "import json\n",
    "\n",
    "contaminantes_list = []\n",
    "for _, row in df_station_final.iterrows():\n",
    "    contaminantes = []\n",
    "    for contaminante in df_station_final.columns[6:]:\n",
    "        contaminantes.append({\n",
    "            'name': contaminante,\n",
    "            'percent_null': row[contaminante]\n",
    "        })\n",
    "    estacion = {\n",
    "        'id': row['id'],\n",
    "        'name': row['name'],\n",
    "        'address': row['address'],\n",
    "        'lon': row['lon'],\n",
    "        'lat': row['lat'],\n",
    "        'elevation': row['elevation'],\n",
    "        'contaminantes': contaminantes\n",
    "    }\n",
    "    contaminantes_list.append(estacion)\n",
    "\n",
    "# Convertir la lista de estaciones con contaminantes a JSON\n",
    "json_data = json.dumps(contaminantes_list, indent=2)\n",
    "\n",
    "# Guardar el JSON en un archivo\n",
    "ruta_json = 'stations.json'\n",
    "with open(ruta_json, 'w') as json_file:\n",
    "    json_file.write(json_data)\n",
    "\n",
    "print(\"Proceso completado. Se ha exportado el DataFrame a JSON con el formato deseado.\")"
   ]
  },
  {
   "cell_type": "code",
   "execution_count": null,
   "metadata": {},
   "outputs": [
    {
     "ename": "",
     "evalue": "",
     "output_type": "error",
     "traceback": [
      "\u001b[1;31mLa ejecución de celdas con 'venv' requiere el paquete ipykernel.\n",
      "\u001b[1;31mRun the following command to install 'ipykernel' into the Python environment. \n",
      "\u001b[1;31mCommand: '/media/lmoroco/D/5TO/TDS/LlinpayTime/server-side/venv/bin/python -m pip install ipykernel -U --force-reinstall'"
     ]
    }
   ],
   "source": [
    "import pandas as pd \n",
    "import matplotlib.pyplot as plt"
   ]
  },
  {
   "cell_type": "code",
   "execution_count": 2,
   "metadata": {},
   "outputs": [
    {
     "data": {
      "text/html": [
       "<div>\n",
       "<style scoped>\n",
       "    .dataframe tbody tr th:only-of-type {\n",
       "        vertical-align: middle;\n",
       "    }\n",
       "\n",
       "    .dataframe tbody tr th {\n",
       "        vertical-align: top;\n",
       "    }\n",
       "\n",
       "    .dataframe thead th {\n",
       "        text-align: right;\n",
       "    }\n",
       "</style>\n",
       "<table border=\"1\" class=\"dataframe\">\n",
       "  <thead>\n",
       "    <tr style=\"text-align: right;\">\n",
       "      <th></th>\n",
       "      <th>BEN</th>\n",
       "      <th>CO</th>\n",
       "      <th>EBE</th>\n",
       "      <th>MXY</th>\n",
       "      <th>NMHC</th>\n",
       "      <th>NO_2</th>\n",
       "      <th>NOx</th>\n",
       "      <th>OXY</th>\n",
       "      <th>O_3</th>\n",
       "      <th>PM10</th>\n",
       "      <th>PM25</th>\n",
       "      <th>PXY</th>\n",
       "      <th>SO_2</th>\n",
       "      <th>TCH</th>\n",
       "      <th>TOL</th>\n",
       "      <th>station</th>\n",
       "      <th>NO</th>\n",
       "      <th>CH4</th>\n",
       "    </tr>\n",
       "    <tr>\n",
       "      <th>date</th>\n",
       "      <th></th>\n",
       "      <th></th>\n",
       "      <th></th>\n",
       "      <th></th>\n",
       "      <th></th>\n",
       "      <th></th>\n",
       "      <th></th>\n",
       "      <th></th>\n",
       "      <th></th>\n",
       "      <th></th>\n",
       "      <th></th>\n",
       "      <th></th>\n",
       "      <th></th>\n",
       "      <th></th>\n",
       "      <th></th>\n",
       "      <th></th>\n",
       "      <th></th>\n",
       "      <th></th>\n",
       "    </tr>\n",
       "  </thead>\n",
       "  <tbody>\n",
       "    <tr>\n",
       "      <th>2005-11-01 01:00:00</th>\n",
       "      <td>NaN</td>\n",
       "      <td>0.42</td>\n",
       "      <td>NaN</td>\n",
       "      <td>NaN</td>\n",
       "      <td>NaN</td>\n",
       "      <td>37.220001</td>\n",
       "      <td>52.009998</td>\n",
       "      <td>NaN</td>\n",
       "      <td>21.379999</td>\n",
       "      <td>15.160000</td>\n",
       "      <td>NaN</td>\n",
       "      <td>NaN</td>\n",
       "      <td>6.60</td>\n",
       "      <td>NaN</td>\n",
       "      <td>NaN</td>\n",
       "      <td>28079004</td>\n",
       "      <td>NaN</td>\n",
       "      <td>NaN</td>\n",
       "    </tr>\n",
       "    <tr>\n",
       "      <th>2005-11-01 02:00:00</th>\n",
       "      <td>NaN</td>\n",
       "      <td>0.38</td>\n",
       "      <td>NaN</td>\n",
       "      <td>NaN</td>\n",
       "      <td>NaN</td>\n",
       "      <td>36.959999</td>\n",
       "      <td>49.919998</td>\n",
       "      <td>NaN</td>\n",
       "      <td>19.959999</td>\n",
       "      <td>17.940001</td>\n",
       "      <td>NaN</td>\n",
       "      <td>NaN</td>\n",
       "      <td>6.59</td>\n",
       "      <td>NaN</td>\n",
       "      <td>NaN</td>\n",
       "      <td>28079004</td>\n",
       "      <td>NaN</td>\n",
       "      <td>NaN</td>\n",
       "    </tr>\n",
       "    <tr>\n",
       "      <th>2005-11-01 03:00:00</th>\n",
       "      <td>NaN</td>\n",
       "      <td>0.36</td>\n",
       "      <td>NaN</td>\n",
       "      <td>NaN</td>\n",
       "      <td>NaN</td>\n",
       "      <td>33.270000</td>\n",
       "      <td>46.259998</td>\n",
       "      <td>NaN</td>\n",
       "      <td>20.440001</td>\n",
       "      <td>11.600000</td>\n",
       "      <td>NaN</td>\n",
       "      <td>NaN</td>\n",
       "      <td>6.47</td>\n",
       "      <td>NaN</td>\n",
       "      <td>NaN</td>\n",
       "      <td>28079004</td>\n",
       "      <td>NaN</td>\n",
       "      <td>NaN</td>\n",
       "    </tr>\n",
       "    <tr>\n",
       "      <th>2005-11-01 04:00:00</th>\n",
       "      <td>NaN</td>\n",
       "      <td>0.29</td>\n",
       "      <td>NaN</td>\n",
       "      <td>NaN</td>\n",
       "      <td>NaN</td>\n",
       "      <td>28.780001</td>\n",
       "      <td>31.780001</td>\n",
       "      <td>NaN</td>\n",
       "      <td>23.290001</td>\n",
       "      <td>2.800000</td>\n",
       "      <td>NaN</td>\n",
       "      <td>NaN</td>\n",
       "      <td>6.23</td>\n",
       "      <td>NaN</td>\n",
       "      <td>NaN</td>\n",
       "      <td>28079004</td>\n",
       "      <td>NaN</td>\n",
       "      <td>NaN</td>\n",
       "    </tr>\n",
       "    <tr>\n",
       "      <th>2005-11-01 05:00:00</th>\n",
       "      <td>NaN</td>\n",
       "      <td>0.25</td>\n",
       "      <td>NaN</td>\n",
       "      <td>NaN</td>\n",
       "      <td>NaN</td>\n",
       "      <td>19.309999</td>\n",
       "      <td>21.910000</td>\n",
       "      <td>NaN</td>\n",
       "      <td>26.629999</td>\n",
       "      <td>19.709999</td>\n",
       "      <td>NaN</td>\n",
       "      <td>NaN</td>\n",
       "      <td>6.05</td>\n",
       "      <td>NaN</td>\n",
       "      <td>NaN</td>\n",
       "      <td>28079004</td>\n",
       "      <td>NaN</td>\n",
       "      <td>NaN</td>\n",
       "    </tr>\n",
       "  </tbody>\n",
       "</table>\n",
       "</div>"
      ],
      "text/plain": [
       "                     BEN    CO  EBE  MXY  NMHC       NO_2        NOx  OXY  \\\n",
       "date                                                                        \n",
       "2005-11-01 01:00:00  NaN  0.42  NaN  NaN   NaN  37.220001  52.009998  NaN   \n",
       "2005-11-01 02:00:00  NaN  0.38  NaN  NaN   NaN  36.959999  49.919998  NaN   \n",
       "2005-11-01 03:00:00  NaN  0.36  NaN  NaN   NaN  33.270000  46.259998  NaN   \n",
       "2005-11-01 04:00:00  NaN  0.29  NaN  NaN   NaN  28.780001  31.780001  NaN   \n",
       "2005-11-01 05:00:00  NaN  0.25  NaN  NaN   NaN  19.309999  21.910000  NaN   \n",
       "\n",
       "                           O_3       PM10  PM25  PXY  SO_2  TCH  TOL  \\\n",
       "date                                                                   \n",
       "2005-11-01 01:00:00  21.379999  15.160000   NaN  NaN  6.60  NaN  NaN   \n",
       "2005-11-01 02:00:00  19.959999  17.940001   NaN  NaN  6.59  NaN  NaN   \n",
       "2005-11-01 03:00:00  20.440001  11.600000   NaN  NaN  6.47  NaN  NaN   \n",
       "2005-11-01 04:00:00  23.290001   2.800000   NaN  NaN  6.23  NaN  NaN   \n",
       "2005-11-01 05:00:00  26.629999  19.709999   NaN  NaN  6.05  NaN  NaN   \n",
       "\n",
       "                      station  NO  CH4  \n",
       "date                                    \n",
       "2005-11-01 01:00:00  28079004 NaN  NaN  \n",
       "2005-11-01 02:00:00  28079004 NaN  NaN  \n",
       "2005-11-01 03:00:00  28079004 NaN  NaN  \n",
       "2005-11-01 04:00:00  28079004 NaN  NaN  \n",
       "2005-11-01 05:00:00  28079004 NaN  NaN  "
      ]
     },
     "execution_count": 2,
     "metadata": {},
     "output_type": "execute_result"
    }
   ],
   "source": [
    "df_04 = pd.read_csv('./out/2/station_28079004.csv', parse_dates=['date'], index_col='date')\n",
    "df_04.head()"
   ]
  },
  {
   "cell_type": "code",
   "execution_count": null,
   "metadata": {},
   "outputs": [],
   "source": []
  },
  {
   "cell_type": "code",
   "execution_count": 14,
   "metadata": {},
   "outputs": [
    {
     "data": {
      "text/plain": [
       "<AxesSubplot:xlabel='date'>"
      ]
     },
     "execution_count": 14,
     "metadata": {},
     "output_type": "execute_result"
    },
    {
     "data": {
      "image/png": "[encoded data removed]",
      "text/plain": [
       "<Figure size 1440x504 with 1 Axes>"
      ]
     },
     "metadata": {
      "needs_background": "light"
     },
     "output_type": "display_data"
    }
   ],
   "source": [
    "df_04['CO'].plot(figsize=(20, 7))"
   ]
  }
 ],
 "metadata": {
  "kernelspec": {
   "display_name": "venv",
   "language": "python",
   "name": "python3"
  },
  "language_info": {
   "codemirror_mode": {
    "name": "ipython",
    "version": 3
   },
   "file_extension": ".py",
   "mimetype": "text/x-python",
   "name": "python",
   "nbconvert_exporter": "python",
   "pygments_lexer": "ipython3",
   "version": "3.6.9"
  },
  "orig_nbformat": 4,
  "vscode": {
   "interpreter": {
    "hash": "6a00bc8fa47092f1411d9adc773e5ef06e8cee6c2cf23ce8bb2a5fabaa705bf1"
   }
  }
 },
 "nbformat": 4,
 "nbformat_minor": 2
}
